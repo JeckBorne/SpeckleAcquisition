{
 "cells": [
  {
   "cell_type": "code",
   "execution_count": 1,
   "metadata": {},
   "outputs": [
    {
     "name": "stderr",
     "output_type": "stream",
     "text": [
      "C:\\Users\\jeckb\\anaconda3\\lib\\site-packages\\paramiko\\transport.py:219: CryptographyDeprecationWarning: Blowfish has been deprecated\n",
      "  \"class\": algorithms.Blowfish,\n"
     ]
    },
    {
     "ename": "ModuleNotFoundError",
     "evalue": "No module named 'LSCI'",
     "output_type": "error",
     "traceback": [
      "\u001b[1;31m---------------------------------------------------------------------------\u001b[0m",
      "\u001b[1;31mModuleNotFoundError\u001b[0m                       Traceback (most recent call last)",
      "Cell \u001b[1;32mIn[1], line 9\u001b[0m\n\u001b[0;32m      7\u001b[0m \u001b[38;5;28;01mfrom\u001b[39;00m \u001b[38;5;21;01mIPython\u001b[39;00m\u001b[38;5;21;01m.\u001b[39;00m\u001b[38;5;21;01mdisplay\u001b[39;00m \u001b[38;5;28;01mimport\u001b[39;00m clear_output\n\u001b[0;32m      8\u001b[0m \u001b[38;5;28;01mimport\u001b[39;00m \u001b[38;5;21;01mpandas\u001b[39;00m \u001b[38;5;28;01mas\u001b[39;00m \u001b[38;5;21;01mpd\u001b[39;00m\n\u001b[1;32m----> 9\u001b[0m \u001b[38;5;28;01mfrom\u001b[39;00m \u001b[38;5;21;01mLSCI\u001b[39;00m\u001b[38;5;21;01m.\u001b[39;00m\u001b[38;5;21;01mSpeckles\u001b[39;00m\u001b[38;5;21;01m.\u001b[39;00m\u001b[38;5;21;01mSpeckles\u001b[39;00m\u001b[38;5;21;01m.\u001b[39;00m\u001b[38;5;21;01mSpeckleAnalysis\u001b[39;00m \u001b[38;5;28;01mimport\u001b[39;00m speckleCharacterization \u001b[38;5;28;01mas\u001b[39;00m sc\n\u001b[0;32m     10\u001b[0m \u001b[38;5;28;01mfrom\u001b[39;00m \u001b[38;5;21;01mscipy\u001b[39;00m\u001b[38;5;21;01m.\u001b[39;00m\u001b[38;5;21;01moptimize\u001b[39;00m \u001b[38;5;28;01mimport\u001b[39;00m curve_fit\n\u001b[0;32m     11\u001b[0m \u001b[38;5;28;01mfrom\u001b[39;00m \u001b[38;5;21;01msklearn\u001b[39;00m\u001b[38;5;21;01m.\u001b[39;00m\u001b[38;5;21;01mmetrics\u001b[39;00m \u001b[38;5;28;01mimport\u001b[39;00m r2_score\n",
      "\u001b[1;31mModuleNotFoundError\u001b[0m: No module named 'LSCI'"
     ]
    }
   ],
   "source": [
    "from SpeckleClasses import SpeckleAnalysis as spa\n",
    "import tifffile as tiff\n",
    "import numpy as np\n",
    "import os\n",
    "from scipy import *\n",
    "import matplotlib.pyplot as plt\n",
    "from IPython.display import clear_output\n",
    "import pandas as pd\n",
    "from SpeckleAnalysis import speckleCharacterization as sc\n",
    "from scipy.optimize import curve_fit\n",
    "from sklearn.metrics import r2_score\n"
   ]
  },
  {
   "cell_type": "markdown",
   "metadata": {},
   "source": [
    "The following code is used to fetch the data and find the median and mean of the picture of noise intensity of the camera used for the acquisition of speckles."
   ]
  },
  {
   "cell_type": "code",
   "execution_count": null,
   "metadata": {},
   "outputs": [],
   "source": [
    "folderpath = r\"S:\\Goliath\\labdata\\jroussel\\Speckle\\20220527-Noise_Intensity\\\\\"\n",
    "\n",
    "spa.meanFolder(folderpath)\n",
    "spa.medianFolder(folderpath)\n"
   ]
  },
  {
   "cell_type": "markdown",
   "metadata": {},
   "source": [
    "The following code is used to calculate the average intensity of each picture in a specific folder."
   ]
  },
  {
   "cell_type": "code",
   "execution_count": null,
   "metadata": {},
   "outputs": [],
   "source": [
    "ICfolderpath = r\"S:\\Goliath\\labdata\\jroussel\\Speckle\\20220527-ExposureTimeVerification\\TestingICCaptureExposureTime\\\\\"\n",
    "spa.meanFolder(ICfolderpath)\n",
    "OpenCVfolderpath = r\"S:\\Goliath\\labdata\\jroussel\\Speckle\\20220527-ExposureTimeVerification\\TestingOpenCVExposureTime\\\\\"\n",
    "spa.meanFolder(OpenCVfolderpath)\n"
   ]
  },
  {
   "cell_type": "markdown",
   "metadata": {},
   "source": [
    "The following code is to examine the difference on the intensity distribution caused by the polarisaion of the captured speckles."
   ]
  },
  {
   "cell_type": "code",
   "execution_count": null,
   "metadata": {},
   "outputs": [],
   "source": [
    "folderpath = r\"S:\\Goliath\\labdata\\jroussel\\Speckle\\20220531-PolarisationReflectedLight\\\\\"\n",
    "allfiles=os.listdir(folderpath)\n",
    "imlist= [filename for filename in allfiles]\n",
    "angle = 0\n",
    "for image in spa.sortedAlphanumeric(imlist):\n",
    "    a = spa.getImage(rf\"S:\\Goliath\\labdata\\jroussel\\Speckle\\20220531-PolarisationReflectedLight\\{image}\")\n",
    "    fig = plt.figure()\n",
    "    fig.patch.set_facecolor(\"white\")\n",
    "    plt.hist(a.flatten(), bins=256, color = \"black\") # Creates histogram of pixel intensity\n",
    "    plt.xlabel(\"Intensity\")\n",
    "    plt.ylabel(\"Count\")\n",
    "    average = np.mean(a)\n",
    "    median = np.median(a)\n",
    "    plt.hist(average, label = f\"Mean = {average}\")\n",
    "    plt.hist(average, label = f\"Mean = {median}\")\n",
    "    plt.hist(average, label = f\"Angle = {angle}\")\n",
    "    plt.legend()\n",
    "    plt.savefig(rf\"C:\\Users\\jo26\\OneDrive\\Stage\\Code python\\Code\\SpeckleAcquisition\\Histogrammes\\PolarisationReflectedLight\\Pol-{angle}degHisto.png\") # Saves the histogram\n",
    "    # plt.show() # Shows the histogram\n",
    "    angle += 10\n",
    "\n"
   ]
  },
  {
   "cell_type": "markdown",
   "metadata": {},
   "source": [
    "The following code is used to create a reference/correction image for the normalisation of future data."
   ]
  },
  {
   "cell_type": "code",
   "execution_count": null,
   "metadata": {},
   "outputs": [],
   "source": [
    "folderpath = \"S:\\Goliath\\labdata\\jroussel\\Speckle\\\\20220628-NormCardBoardV5\"\n",
    "\n",
    "correction_image = spa.correctionImage(folderpath)\n"
   ]
  },
  {
   "cell_type": "markdown",
   "metadata": {},
   "source": [
    "The following code is used to normalise the speckle pattern."
   ]
  },
  {
   "cell_type": "code",
   "execution_count": null,
   "metadata": {},
   "outputs": [],
   "source": [
    "specklePath = \"S:\\Goliath\\labdata\\jroussel\\Speckle\\\\20220621-DecorelationCardBoardSample\\\\ardBoardSpeckle0001 16-21-15.tiff\"\n",
    "correctionPath = \"S:\\Goliath\\labdata\\jroussel\\Speckle\\\\20220622-NormCardBoardSample\\CorrectionImage.tiff\"\n",
    "correctionImage = spa.getImage(correctionPath)[:,0:-1]\n",
    "speckleImage = spa.getImage(specklePath)[:,0:-1] #[:,0:-1] is to have images of same resolution\n",
    "\n",
    "norm = spa.NormalizeSpeckles(speckleImage, correctionImage)"
   ]
  },
  {
   "cell_type": "markdown",
   "metadata": {},
   "source": [
    "The following code is used to calculate de correlation between the first image of a folder and the following images."
   ]
  },
  {
   "cell_type": "code",
   "execution_count": null,
   "metadata": {},
   "outputs": [],
   "source": [
    "folderpath = \"S:\\Goliath\\labdata\\jroussel\\Speckle\\\\20220816-DeccorelationChickenBoneReflected\"\n",
    "spa.correlation(folderpath, start=0, end=30, expo_fit=True)"
   ]
  },
  {
   "cell_type": "markdown",
   "metadata": {},
   "source": [
    "Analysing the images of speckle pattern through time to get correlation curves. **WARNING**: you need a good computer to analyse many correlation curves, it takes quite a while for the code to run entirely"
   ]
  },
  {
   "cell_type": "code",
   "execution_count": null,
   "metadata": {},
   "outputs": [],
   "source": [
    "Skin = \"S:\\Goliath\\labdata\\jroussel\\Speckle\\\\20220816-DeccorelationChikenSkinReflect\"\n",
    "window_size = 40\n",
    "spa.AnalyseCorrelation(folderpath, window_size, save=False)"
   ]
  },
  {
   "cell_type": "markdown",
   "metadata": {},
   "source": [
    "Cheking results of characteristic time of the correlation curves"
   ]
  },
  {
   "cell_type": "code",
   "execution_count": null,
   "metadata": {},
   "outputs": [],
   "source": [
    "Skin = \"S:\\Goliath\\labdata\\jroussel\\Speckle\\\\20220816-DeccorelationChikenSkinReflect\\Data_ChickenSkinReflected.xlsx\"\n",
    "Tendon = \"S:\\Goliath\\labdata\\jroussel\\Speckle\\\\22020816-DeccorelationChickenTendonReflect\\Data_ChickenTendonReflected.xlsx\"\n",
    "Bone = \"S:\\Goliath\\labdata\\jroussel\\Speckle\\\\20220816-DeccorelationChickenBoneReflected\\Data_ChickenBoneReflected.xlsx\"\n",
    "\n",
    "spa.show_correlation_results(Skin)"
   ]
  },
  {
   "cell_type": "markdown",
   "metadata": {},
   "source": [
    "Calculate average size of speckles (Made by Gabriel Genest)"
   ]
  },
  {
   "cell_type": "code",
   "execution_count": null,
   "metadata": {},
   "outputs": [],
   "source": [
    "image_path = r\"C:\\Users\\jo26\\Downloads\\jo2.tiff\"\n",
    "pattern = sc.SpeckleCharacterization(image_path=image_path)\n",
    "print(pattern.speckle_sizes)"
   ]
  },
  {
   "cell_type": "markdown",
   "metadata": {},
   "source": [
    "Analyse correlation time of speckle patterns when we look with a certain squared window size (in pixels) In other words, the effetcs of observing less speckles on the accuracy of our reading of the correlationcurve"
   ]
  },
  {
   "cell_type": "code",
   "execution_count": null,
   "metadata": {},
   "outputs": [],
   "source": [
    "folderpath = \"S:\\Goliath\\labdata\\jroussel\\Speckle\\\\20220816-DeccorelationChickenBoneReflected\"\n",
    "spa.CorrelationCurveVSWindow_size(folderpath, start=40, end=80, window_size=10000, time_seperation=1, time_scale=\"seconds\", expo_fit=True)"
   ]
  }
 ],
 "metadata": {
  "interpreter": {
   "hash": "1233737912be3dccf5bd6d26c5f42e951b2a2c1f702feeb5316a6b876889c876"
  },
  "kernelspec": {
   "display_name": "Python 3 (ipykernel)",
   "language": "python",
   "name": "python3"
  },
  "language_info": {
   "codemirror_mode": {
    "name": "ipython",
    "version": 3
   },
   "file_extension": ".py",
   "mimetype": "text/x-python",
   "name": "python",
   "nbconvert_exporter": "python",
   "pygments_lexer": "ipython3",
   "version": "3.10.9"
  }
 },
 "nbformat": 4,
 "nbformat_minor": 2
}
